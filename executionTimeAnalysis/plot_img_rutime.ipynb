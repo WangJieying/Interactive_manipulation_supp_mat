{
 "cells": [
  {
   "cell_type": "markdown",
   "id": "892a3394-4f34-494a-85fc-a098e2fb6304",
   "metadata": {},
   "source": [
    "## Get quertstring"
   ]
  },
  {
   "cell_type": "code",
   "execution_count": 26,
   "id": "0191f7d0-4e16-4d99-b02e-65d07eed98ec",
   "metadata": {},
   "outputs": [],
   "source": [
    "from IPython.display import Javascript\n",
    "my_js = 'function getURL() { return \"URL\"; }'\n",
    "url = Javascript(my_js)"
   ]
  },
  {
   "cell_type": "code",
   "execution_count": 28,
   "id": "4ad97dd4-8a16-4e12-b7e8-13bed8cbe395",
   "metadata": {},
   "outputs": [
    {
     "data": {
      "application/javascript": [
       "function getURL() { return \"URL\"; }"
      ],
      "text/plain": [
       "<IPython.core.display.Javascript object>"
      ]
     },
     "execution_count": 28,
     "metadata": {},
     "output_type": "execute_result"
    }
   ],
   "source": [
    "url"
   ]
  },
  {
   "cell_type": "markdown",
   "id": "4474ef63-2b53-4151-b146-83c2e0d7822c",
   "metadata": {},
   "source": [
    "# Plot\n",
    "## Maximum number of grey levels x runtime"
   ]
  },
  {
   "cell_type": "code",
   "execution_count": null,
   "id": "6f933d83-3f8d-4c69-85d3-7a43bc8d0736",
   "metadata": {},
   "outputs": [],
   "source": []
  }
 ],
 "metadata": {
  "kernelspec": {
   "display_name": "Python 3 (ipykernel)",
   "language": "python",
   "name": "python3"
  },
  "language_info": {
   "codemirror_mode": {
    "name": "ipython",
    "version": 3
   },
   "file_extension": ".py",
   "mimetype": "text/x-python",
   "name": "python",
   "nbconvert_exporter": "python",
   "pygments_lexer": "ipython3",
   "version": "3.9.7"
  }
 },
 "nbformat": 4,
 "nbformat_minor": 5
}
